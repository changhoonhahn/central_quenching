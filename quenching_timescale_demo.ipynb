{
 "metadata": {
  "name": ""
 },
 "nbformat": 3,
 "nbformat_minor": 0,
 "worksheets": [
  {
   "cells": [
    {
     "cell_type": "code",
     "collapsed": false,
     "input": [
      "%matplotlib inline\n",
      "import numpy as np \n",
      "import matplotlib.pyplot as plt\n",
      "from cenque import CenQue\n",
      "from plotting.plot_cenque import PlotCenque\n",
      "from util.tau_quenching import get_quenching_efold\n",
      "from defutility.plotting import prettycolors"
     ],
     "language": "python",
     "metadata": {},
     "outputs": [],
     "prompt_number": 5
    },
    {
     "cell_type": "markdown",
     "metadata": {},
     "source": [
      "# Quenching timescale $\\tau$ \n",
      "\n",
      "$$ SFR_{quenching} = SFR_0 \\times e^{\\frac{-\\Delta t}{\\tau_Q}}$$"
     ]
    },
    {
     "cell_type": "code",
     "collapsed": false,
     "input": [
      "def plot_tau(tau_params): \n",
      "    \"\"\" Plot tau(M*) for specified list of tau parameters\n",
      "    \"\"\"\n",
      "    \n",
      "    pretty_colors = prettycolors()\n",
      "    \n",
      "    if not isinstance(tau_params, list): \n",
      "        raise ValueError() \n",
      "    \n",
      "    mass_bin = np.arange(9.0, 12.0, 0.5)\n",
      "    \n",
      "    fig = plt.figure()\n",
      "    sub = fig.add_subplot(111)\n",
      "    \n",
      "    for i_tau, tau_param in enumerate(tau_params): \n",
      "        taus = get_quenching_efold(mass_bin, tau_param = tau_param)\n",
      "        \n",
      "        sub.plot(mass_bin, taus, lw=4, c = pretty_colors[i_tau+1], label=tau_param['name'])\n",
      "    \n",
      "    sub.set_xlim([9.5, 12.0]) \n",
      "    sub.set_ylim([0.0, 2.0])\n",
      "    sub.set_xlabel('Stellar Mass')\n",
      "    sub.set_ylabel('Quenching Timescale')\n",
      "    sub.legend(loc='upper right')\n",
      "    \n",
      "    plt.show()"
     ],
     "language": "python",
     "metadata": {},
     "outputs": [],
     "prompt_number": 18
    },
    {
     "cell_type": "markdown",
     "metadata": {},
     "source": [
      "## Satellite $\\tau_{Q}$"
     ]
    },
    {
     "cell_type": "code",
     "collapsed": false,
     "input": [
      "plot_tau([{'name': 'satellite'}])"
     ],
     "language": "python",
     "metadata": {},
     "outputs": [
      {
       "metadata": {},
       "output_type": "display_data",
       "png": "[encoded data removed]",
       "text": [
        "<matplotlib.figure.Figure at 0x2b697c27fa10>"
       ]
      }
     ],
     "prompt_number": 19
    },
    {
     "cell_type": "markdown",
     "metadata": {},
     "source": [
      "## Extra Long $\\tau_Q$ (Incorrect)"
     ]
    },
    {
     "cell_type": "code",
     "collapsed": false,
     "input": [],
     "language": "python",
     "metadata": {},
     "outputs": []
    }
   ],
   "metadata": {}
  }
 ]
}