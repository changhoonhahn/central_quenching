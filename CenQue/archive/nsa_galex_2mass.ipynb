{
 "cells": [
  {
   "cell_type": "markdown",
   "metadata": {
    "deletable": true,
    "editable": true
   },
   "source": [
    "*now defunct notebook. IDL code to generate NSA+GALEX+2MASS catalog with K-correct absolute magnitudes*\n",
    "## Amalgamate NSA, GALEX, and 2MASS data \n",
    "In order to answer some of the referee reports, I need to combine data from different sources!"
   ]
  },
  {
   "cell_type": "code",
   "execution_count": 1,
   "metadata": {
    "collapsed": false,
    "deletable": true,
    "editable": true
   },
   "outputs": [
    {
     "name": "stderr",
     "output_type": "stream",
     "text": [
      "/usr/local/lib/python2.7/site-packages/IPython/kernel/__init__.py:13: ShimWarning: The `IPython.kernel` package has been deprecated since IPython 4.0.You should import from ipykernel or jupyter_client instead.\n",
      "  \"You should import from ipykernel or jupyter_client instead.\", ShimWarning)\n"
     ]
    }
   ],
   "source": [
    "import numpy as np\n",
    "import h5py\n",
    "from pydl.pydlutils.spheregroup import spherematch\n",
    "\n",
    "import matplotlib.pyplot as plt\n",
    "%matplotlib inline \n",
    "\n",
    "from ChangTools.fitstables import mrdfits\n",
    "from ChangTools.plotting import prettyplot\n",
    "from ChangTools.plotting import prettycolors"
   ]
  },
  {
   "cell_type": "code",
   "execution_count": 2,
   "metadata": {
    "collapsed": true,
    "deletable": true,
    "editable": true
   },
   "outputs": [],
   "source": [
    "prettyplot()\n",
    "pretty_colors = prettycolors()"
   ]
  },
  {
   "cell_type": "code",
   "execution_count": 3,
   "metadata": {
    "collapsed": true,
    "deletable": true,
    "editable": true
   },
   "outputs": [],
   "source": [
    "from astropy.cosmology import FlatLambdaCDM\n",
    "cosmo = FlatLambdaCDM(H0=70, Om0=0.3)"
   ]
  },
  {
   "cell_type": "code",
   "execution_count": 4,
   "metadata": {
    "collapsed": false,
    "deletable": true,
    "editable": true
   },
   "outputs": [
    {
     "name": "stdout",
     "output_type": "stream",
     "text": [
      "/Volumes/750GB/hahn/cenque/observations/\n"
     ]
    }
   ],
   "source": [
    "import os\n",
    "\n",
    "if os.path.isdir('/Volumes/750GB/hahn/cenque/observations/'): \n",
    "    local_dir = '/Volumes/750GB/hahn/cenque/observations/'\n",
    "elif os.path.isdir('/Volumes/ChangHDD/project/cenque/observations/'): \n",
    "    local_dir = '/Volumes/ChangHDD/project/cenque/observations/'\n",
    "print local_dir"
   ]
  },
  {
   "cell_type": "markdown",
   "metadata": {
    "deletable": true,
    "editable": true
   },
   "source": [
    "## Import v_0_1_2 NSA\n",
    "import the latest version of NSA data. Data description here: http://www.nsatlas.org/data . Contains FNugriz magnitudes. "
   ]
  },
  {
   "cell_type": "code",
   "execution_count": 5,
   "metadata": {
    "collapsed": false,
    "deletable": true,
    "editable": true
   },
   "outputs": [
    {
     "name": "stdout",
     "output_type": "stream",
     "text": [
      "145155 galaxies\n"
     ]
    }
   ],
   "source": [
    "nsa_data = mrdfits(local_dir+'nsa_v0_1_2.fits')\n",
    "print len(nsa_data.ra), 'galaxies'"
   ]
  },
  {
   "cell_type": "code",
   "execution_count": 6,
   "metadata": {
    "collapsed": false,
    "deletable": true,
    "editable": true
   },
   "outputs": [
    {
     "name": "stdout",
     "output_type": "stream",
     "text": [
      "['absmag', 'ahdew', 'ahdewerr', 'ahgew', 'ahgewerr', 'aid', 'amivar', 'asymmetry', 'av', 'b1000', 'b300', 'ba50', 'ba90', 'bastokes', 'camcol', 'clumpy', 'coeff', 'd4000', 'd4000err', 'dec', 'deccat', 'dflags', 'dversion', 'extinction', 'fa', 'faerr', 'fiberflux', 'fiberflux_ivar', 'fiberid', 'field', 'haew', 'haewerr', 'haflux', 'hafluxerr', 'havmeas', 'havmerr', 'hbew', 'hbewerr', 'hbflux', 'hbfluxerr', 'hbvmeas', 'hbvmerr', 'ialfalfa', 'iauname', 'ined', 'isdss', 'isixdf', 'itwodf', 'izcat', 'kcoeff', 'kcorrect', 'mag', 'mass', 'mets', 'mjd', 'mtol', 'n2ew', 'n2ewerr', 'n2flux', 'n2fluxerr', 'n2vmeas', 'n2vmerr', 'ne3ew', 'ne3ewerr', 'ne5ew', 'ne5ewerr', 'nmgy', 'nmgy_ivar', 'nprof', 'nsaid', 'o1ew', 'o1ewerr', 'o1flux', 'o1fluxerr', 'o1vmeas', 'o1vmerr', 'o2ew', 'o2ewerr', 'o2flux', 'o2fluxerr', 'o2vmeas', 'o2vmerr', 'o3ew', 'o3ewerr', 'o3flux', 'o3fluxerr', 'o3vmeas', 'o3vmerr', 'objno', 'ok', 'petroflux', 'petroflux_ivar', 'petroth50', 'petroth90', 'petrotheta', 'phi50', 'phi90', 'phistokes', 'pid', 'plate', 'platequality', 'plug_dec', 'plug_ra', 'profmean', 'profmean_ivar', 'proftheta', 'programname', 'qstokes', 'ra', 'racat', 'rerun', 'rnmgy', 'run', 's2ew', 's2ewerr', 's2flux', 's2fluxerr', 's2nsamp', 's2ratio', 's2vmeas', 's2vmerr', 'sersic_ba', 'sersic_n', 'sersic_phi', 'sersic_th50', 'sersicflux', 'sersicflux_ivar', 'size', 'subdir', 'survey', 'tile', 'ustokes', 'vdisp', 'xcen', 'xpos', 'ycen', 'ypos', 'z', 'zdist', 'zdist_err', 'zlg', 'zsdssline', 'zsrc']\n"
     ]
    }
   ],
   "source": [
    "print sorted(list(nsa_data.__dict__.keys()))"
   ]
  },
  {
   "cell_type": "markdown",
   "metadata": {
    "deletable": true,
    "editable": true
   },
   "source": [
    "## VAGC k-correct data\n",
    "This contains data from ugrizJHK magnitudes from $\\bf model$ or $\\bf petro$ fluxes (http://cosmo.nyu.edu/blanton/vagc/kcorrect.html). Note that the data is kcorrect-ed to $z = 0.0$ and $\\bf NO$ fiber collision correct. The cosmology used is the same as NSA ($\\Omega_m = 0.3$, $\\Omega_\\Lambda = 0.7, h = 1$)\n",
    "\n",
    "Note that both kcorrect with model flux and kcorrect with petro flux have the same extinction corrected AB fluxes for 2MASS. "
   ]
  },
  {
   "cell_type": "code",
   "execution_count": 8,
   "metadata": {
    "collapsed": false,
    "deletable": true,
    "editable": true
   },
   "outputs": [
    {
     "name": "stdout",
     "output_type": "stream",
     "text": [
      "2506754 galaxies\n"
     ]
    }
   ],
   "source": [
    "#kcorr_data = mrdfits(local_dir+'kcorrect.none.model.z0.00.fits') # VAGC kcorrect with model fluxes\n",
    "kcorr_data = mrdfits(local_dir+'kcorrect.none.petro.z0.00.fits') # VAGC kcorrect with petro fluxes\n",
    "print len(kcorr_data.ra), 'galaxies'"
   ]
  },
  {
   "cell_type": "code",
   "execution_count": 9,
   "metadata": {
    "collapsed": false,
    "deletable": true,
    "editable": true
   },
   "outputs": [
    {
     "name": "stdout",
     "output_type": "stream",
     "text": [
      "['abmaggies', 'abmaggies_ivar', 'absmag', 'absmag_ivar', 'b1000', 'b300', 'coeffs', 'dec', 'intsfh', 'kcorrect', 'mass', 'mets', 'mtol', 'ra', 'z']\n"
     ]
    }
   ],
   "source": [
    "print sorted(kcorr_data.__dict__.keys())"
   ]
  },
  {
   "cell_type": "markdown",
   "metadata": {
    "deletable": true,
    "editable": true
   },
   "source": [
    "### Match VAGC to NSA"
   ]
  },
  {
   "cell_type": "code",
   "execution_count": 10,
   "metadata": {
    "collapsed": false,
    "deletable": true,
    "editable": true
   },
   "outputs": [],
   "source": [
    "m_nsa_kcorr, m_kcorr_nsa, dd = spherematch(nsa_data.ra, nsa_data.dec, kcorr_data.ra, kcorr_data.dec, 0.001)"
   ]
  },
  {
   "cell_type": "code",
   "execution_count": 11,
   "metadata": {
    "collapsed": false,
    "deletable": true,
    "editable": true
   },
   "outputs": [
    {
     "name": "stdout",
     "output_type": "stream",
     "text": [
      "126549 matches\n"
     ]
    }
   ],
   "source": [
    "print len(m_nsa_kcorr), 'matches'"
   ]
  },
  {
   "cell_type": "markdown",
   "metadata": {
    "deletable": true,
    "editable": true
   },
   "source": [
    "## Sanity-checks on the matches\n",
    "Check a number of data columns with each other to make sure that they are the same galaxies!"
   ]
  },
  {
   "cell_type": "code",
   "execution_count": 10,
   "metadata": {
    "collapsed": false,
    "deletable": true,
    "editable": true
   },
   "outputs": [],
   "source": [
    "assert np.abs(nsa_data.ra[m_nsa_kcorr] - kcorr_data.ra[m_kcorr_nsa]).min() < 0.001\n",
    "assert np.abs(nsa_data.dec[m_nsa_kcorr] - kcorr_data.dec[m_kcorr_nsa]).min() < 0.001"
   ]
  },
  {
   "cell_type": "markdown",
   "metadata": {
    "deletable": true,
    "editable": true
   },
   "source": [
    "Because NSA uses DR8 photometry while VAGC uses DR7 photometry, there will be differences in all the values. Furthermore, NSA K-corrects using GALEX + Sersic fluxes from SDSS DR8, while VAGC corrects using Petrosian/Model fluxes from SDSS DR7 and 2MASS. So, I think, the correct thing to do here would be to assemble AB fluxes of [GALEX, SDSS DR8 Sersic ugriz, 2MASS], run K-correct to z = 0. "
   ]
  },
  {
   "cell_type": "code",
   "execution_count": 43,
   "metadata": {
    "collapsed": false,
    "deletable": true,
    "editable": true
   },
   "outputs": [
    {
     "name": "stdout",
     "output_type": "stream",
     "text": [
      "[  26.09586906   71.77107239  100.26631927  127.58375549  130.22434998]\n",
      "[  29.55904961   72.09842682  101.23332214  122.08704376  134.84332275]\n",
      "[ 0.15295593  0.1284142   0.04631269  0.03510745  0.02046486]\n",
      "[ 0.11207695  0.08627526  0.04970221  0.0223344   0.01950765]\n",
      "[  2.19396884e-06   3.37851430e-22   3.93401210e-17   3.69336449e-05\n",
      "   2.22649090e-15]\n",
      "[  3.87625323e-06   3.43058415e-10   4.85246346e-07   2.03782274e-05\n",
      "   3.29407357e-07]\n"
     ]
    },
    {
     "data": {
      "text/plain": [
       "(0.0, 500.0)"
      ]
     },
     "execution_count": 43,
     "metadata": {},
     "output_type": "execute_result"
    },
    {
     "data": {
      "image/png": "[encoded data removed]",
      "text/plain": [
       "<matplotlib.figure.Figure at 0x106ee9f50>"
      ]
     },
     "metadata": {},
     "output_type": "display_data"
    }
   ],
   "source": [
    "# compare the AB maggies for the shared u, g, r, i, z bands\n",
    "fig = plt.figure()\n",
    "#for i_b, band in enumerate(['u', 'g', 'r', 'i', 'z']): \n",
    "#    sub = fig.add_subplot(1,5,i_b+1)\n",
    "sub = fig.add_subplot(111)\n",
    "i_b = 0 \n",
    "print (nsa_data.petroflux[m_nsa_kcorr, :][1] * 10**(0.4 * nsa_data.extinction[m_nsa_kcorr][0]))[2:]\n",
    "print (kcorr_data.abmaggies[m_kcorr_nsa, :][1] * 1e9)[:5]\n",
    "print (nsa_data.kcorrect[m_nsa_kcorr,2:])[0]\n",
    "print (kcorr_data.kcorrect[m_kcorr_nsa,:5])[0]\n",
    "print (nsa_data.kcoeff[m_nsa_kcorr])[0]\n",
    "print (kcorr_data.coeffs[m_kcorr_nsa])[0]\n",
    "\n",
    "sub.scatter(nsa_data.nmgy[m_nsa_kcorr, 2+i_b][:100], kcorr_data.abmaggies[m_kcorr_nsa,i_b][:100]*1e9, c='k')\n",
    "f_extinct = 10**(0.4 * nsa_data.extinction[m_nsa_kcorr])\n",
    "sub.scatter(nsa_data.petroflux[m_nsa_kcorr, 2+i_b][:100] * f_extinct[:100, 2+i_b] , kcorr_data.abmaggies[m_kcorr_nsa,i_b][:100]*1e9, \n",
    "            c=pretty_colors[3], lw=0)\n",
    "sub.plot(nsa_data.petroflux[m_nsa_kcorr, 2+i_b][:100], nsa_data.petroflux[m_nsa_kcorr, 2+i_b][:100], c='k', ls='--')\n",
    "sub.set_xlim([0., 5e2])\n",
    "sub.set_ylim([0., 5e2])"
   ]
  },
  {
   "cell_type": "markdown",
   "metadata": {
    "deletable": true,
    "editable": true
   },
   "source": [
    "### Combined data dictionary"
   ]
  },
  {
   "cell_type": "code",
   "execution_count": null,
   "metadata": {
    "collapsed": true,
    "deletable": true,
    "editable": true
   },
   "outputs": [],
   "source": [
    "# first dump all NSA data \n",
    "nsa = {} \n",
    "for key in nsa_data.__dict__.keys(): \n",
    "    nsa[key] = getattr(nsa_data, key)"
   ]
  },
  {
   "cell_type": "code",
   "execution_count": null,
   "metadata": {
    "collapsed": false,
    "deletable": true,
    "editable": true
   },
   "outputs": [],
   "source": [
    "# supplement NSA absolute magnitude values\n",
    "nsa['vagc_id'] = np.repeat(-999., len(nsa['ra']))\n",
    "nsa['vagc_id'][m_nsa_kcorr] = m_kcorr_nsa\n",
    "for i_band, band in enumerate(['u', 'g', 'r', 'i', 'z', 'j', 'h', 'k']): \n",
    "    nsa['vagc_absmag_'+band] = np.repeat(-999., len(nsa['ra']))\n",
    "    nsa['vagc_absmag_'+band][m_nsa_kcorr] = kcorr_data.absmag[:,i_band][m_kcorr_nsa]"
   ]
  },
  {
   "cell_type": "code",
   "execution_count": null,
   "metadata": {
    "collapsed": false,
    "deletable": true,
    "editable": true
   },
   "outputs": [],
   "source": [
    "print nsa['vagc_absmag_r'][:10]"
   ]
  },
  {
   "cell_type": "markdown",
   "metadata": {
    "deletable": true,
    "editable": true
   },
   "source": [
    "### Supplement NSA with $SFR_{UV}$ from GALEX \n",
    "These functions are from Nitya's code"
   ]
  },
  {
   "cell_type": "code",
   "execution_count": null,
   "metadata": {
    "collapsed": true,
    "deletable": true,
    "editable": true
   },
   "outputs": [],
   "source": [
    "def jansky(flux, kcorrect):\n",
    "    '''Getting fluxes in Janskies from Nanomaggies:\n",
    "    Inputs: Choose Petrosian/Sersic Nmgy and the relevant Kcorrection\n",
    "    '''\n",
    "    flux_in_Jy = flux*3631*(10.0**(-9.0))*(10**(kcorrect/(-2.5)))\n",
    "    return flux_in_Jy"
   ]
  },
  {
   "cell_type": "code",
   "execution_count": null,
   "metadata": {
    "collapsed": true,
    "deletable": true,
    "editable": true
   },
   "outputs": [],
   "source": [
    "def jansky_err(flux,kcorrect):\n",
    "    '''Inverse Variance in Fluxes: (Input Flux inverse variance in Nmgy^-2)\n",
    "    '''\n",
    "    Jy_err = (flux**(-0.5))*3631*(10.0**(-9.0))*(10**(kcorrect/(-2.5)))\n",
    "    return Jy_err"
   ]
  },
  {
   "cell_type": "code",
   "execution_count": null,
   "metadata": {
    "collapsed": true,
    "deletable": true,
    "editable": true
   },
   "outputs": [],
   "source": [
    "def UVsfr(z,fmag,nmag,rmag,f_flux):\n",
    "    ''' Calculate UV star formation rates. \n",
    "    Inputs: NSAID,z,F-band magnitude, N-band magnitude, r-band magnitude, F-band flux in Janskies\n",
    "    '''\n",
    "    fn = fmag - nmag\n",
    "    opt = nmag - rmag   # N-r\n",
    "    \n",
    "    #Luminosity Distance\n",
    "    dist = cosmo.comoving_distance(z)\n",
    "    ldist = (1+z)*dist\n",
    "    \n",
    "    #calculating Attenuation 'atten'\n",
    "    atten = np.repeat(-999., len(fmag)) \n",
    "\n",
    "    case1 = np.where((opt > 4.) & (fn < 0.95)) \n",
    "    atten[case1] = 3.32*fn[case1] + 0.22\n",
    "    case2 = np.where((opt > 4.) & (fn >= 0.95))\n",
    "    atten[case2] = 3.37\n",
    "    case3 = np.where((opt <= 4.) & (fn < 0.9))\n",
    "    atten[case3] = 2.99*fn[case3] + 0.27\n",
    "    case4 = np.where((opt <= 4.) & (fn >= 0.9))\n",
    "    atten[case4] = 2.96\n",
    "\n",
    "    #if opt >= 4.0:\n",
    "    #    if fn < 0.95:\n",
    "    #        atten = 3.32*fn + 0.22\n",
    "    #    else:\n",
    "    #        atten = 3.37\n",
    "    #else:\n",
    "    #    if fn < 0.90:\n",
    "    #        atten = 2.99*fn +0.27\n",
    "    #    else:\n",
    "    #        atten = 2.96\n",
    "\n",
    "    lum = 4.*np.pi*(ldist**2.0)*(3.087**2.0)*(10**(25.0 +(atten/2.5)))*f_flux  #Luminosity\n",
    "    sfr = 1.08*(10**(-28.0))*np.abs(lum)\n",
    "    return sfr"
   ]
  },
  {
   "cell_type": "code",
   "execution_count": null,
   "metadata": {
    "collapsed": true,
    "deletable": true,
    "editable": true
   },
   "outputs": [],
   "source": [
    "def NSA_SFR_UV(nsa_data, flux_choice): \n",
    "    ''' Given NSA data dictionary calculate the UV sfrs \n",
    "    '''\n",
    "    if flux_choice not in ['elpetro', 'sersic']: \n",
    "        raise ValueError\n",
    "        \n",
    "    if flux_choice == 'elpetro': \n",
    "        flux_tag = 'petroflux'\n",
    "    elif flux_choice == 'sersic': \n",
    "        flux_tag = 'sersicflux'\n",
    "\n",
    "    fuv_nanomags = nsa_data[flux_tag][:,0]\n",
    "    not_nans = (fuv_nanomags > 0.) \n",
    "    print len(fuv_nanomags) - np.sum(not_nans), \" galaxies don't have UV\"\n",
    "\n",
    "    fuv_jansky = np.repeat(-999., len(fuv_nanomags))\n",
    "    fuv_jansky[np.where(not_nans)] = jansky(fuv_nanomags[np.where(not_nans)], 0.) \n",
    "\n",
    "    absmags = nsa_data['absmag']\n",
    "    f_notnans = (absmags[:,0] != -9999.)\n",
    "    n_notnans = (absmags[:,1] != -9999.)\n",
    "    r_notnans = (absmags[:,4] != -9999.)\n",
    "    \n",
    "    has_everything = np.where(not_nans & f_notnans & n_notnans & r_notnans)\n",
    "    uvsfrs = np.repeat(-999., len(fuv_nanomags))\n",
    "    uvsfrs[has_everything] = UVsfr(\n",
    "            nsa_data['z'][has_everything], \n",
    "            absmags[:,0][has_everything], \n",
    "            absmags[:,1][has_everything], \n",
    "            absmags[:,4][has_everything], \n",
    "            fuv_jansky[has_everything])\n",
    "\n",
    "    return uvsfrs "
   ]
  },
  {
   "cell_type": "markdown",
   "metadata": {
    "deletable": true,
    "editable": true
   },
   "source": [
    "### Add $SFR_{UV}$ values to NSA dictionary"
   ]
  },
  {
   "cell_type": "code",
   "execution_count": null,
   "metadata": {
    "collapsed": false,
    "deletable": true,
    "editable": true
   },
   "outputs": [],
   "source": [
    "nsa['sfr_uv_elpetro'] = NSA_SFR_UV(nsa, 'elpetro')\n",
    "nsa['sfr_uv_sersic'] = NSA_SFR_UV(nsa, 'sersic')"
   ]
  },
  {
   "cell_type": "code",
   "execution_count": null,
   "metadata": {
    "collapsed": false,
    "deletable": true,
    "editable": true
   },
   "outputs": [],
   "source": [
    "fig = plt.figure(figsize=(8,8))\n",
    "sub = fig.add_subplot(111)\n",
    "\n",
    "sub.scatter(np.log10(nsa['sfr_uv_elpetro']), np.log10(nsa['sfr_uv_sersic']), c=pretty_colors[3], lw=0)\n",
    "sub.plot([-5.,3.], [-5.,3.], c='k', ls='--', lw=3)\n",
    "\n",
    "sub.set_xlabel('$\\mathtt{SFR_{UV}}$ Petrosian')\n",
    "sub.set_xlim([-5., 3.])\n",
    "sub.set_xlabel('$\\mathtt{SFR_{UV}}$ Sersic')\n",
    "sub.set_ylim([-5., 3.])"
   ]
  },
  {
   "cell_type": "markdown",
   "metadata": {
    "deletable": true,
    "editable": true
   },
   "source": [
    "# Save NSA dictionary to hdf5 file "
   ]
  },
  {
   "cell_type": "code",
   "execution_count": null,
   "metadata": {
    "collapsed": true,
    "deletable": true,
    "editable": true
   },
   "outputs": [],
   "source": [
    "import pickle"
   ]
  },
  {
   "cell_type": "code",
   "execution_count": null,
   "metadata": {
    "collapsed": true,
    "deletable": true,
    "editable": true
   },
   "outputs": [],
   "source": [
    "nsa_dict_file = ''.join([local_dir, 'NSA_2MASS_UVSFR.p'])"
   ]
  },
  {
   "cell_type": "code",
   "execution_count": null,
   "metadata": {
    "collapsed": false,
    "deletable": true,
    "editable": true
   },
   "outputs": [],
   "source": [
    "pickle.dump(nsa, open(nsa_dict_file, 'wb'))"
   ]
  },
  {
   "cell_type": "code",
   "execution_count": null,
   "metadata": {
    "collapsed": true,
    "deletable": true,
    "editable": true
   },
   "outputs": [],
   "source": []
  }
 ],
 "metadata": {
  "kernelspec": {
   "display_name": "Python 2",
   "language": "python",
   "name": "python2"
  },
  "language_info": {
   "codemirror_mode": {
    "name": "ipython",
    "version": 2
   },
   "file_extension": ".py",
   "mimetype": "text/x-python",
   "name": "python",
   "nbconvert_exporter": "python",
   "pygments_lexer": "ipython2",
   "version": "2.7.9"
  }
 },
 "nbformat": 4,
 "nbformat_minor": 0
}
