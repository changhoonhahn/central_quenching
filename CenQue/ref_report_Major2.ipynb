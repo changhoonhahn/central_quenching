{
 "cells": [
  {
   "cell_type": "markdown",
   "metadata": {},
   "source": [
    "# Referee Report Major Comment #2\n",
    "One of the reasons for spectroscopically-derived SFR is to obtain a cleaner separation between SF and quiescent galaxies at z~0 than a simple color cut. However, the quiescent fractions at higher redshift taken from Tinker et al. 2013 were obtained using NUV-R and R-J color-color cut. Would these different classification methods at different redshifts affect the results? The authors could separate the SF and quiescent galaxies at z~0 using a color cut similar to that in Tinker et al. 2013 to check this."
   ]
  },
  {
   "cell_type": "code",
   "execution_count": 1,
   "metadata": {
    "collapsed": true
   },
   "outputs": [],
   "source": [
    "import numpy as np\n",
    "import h5py\n",
    "import pickle\n",
    "from pydl.pydlutils.spheregroup import spherematch\n",
    "\n",
    "import matplotlib.pyplot as plt\n",
    "%matplotlib inline \n",
    "\n",
    "from ChangTools.fitstables import mrdfits\n",
    "from ChangTools.plotting import prettyplot\n",
    "from ChangTools.plotting import prettycolors"
   ]
  },
  {
   "cell_type": "markdown",
   "metadata": {},
   "source": [
    "## import relevant data"
   ]
  },
  {
   "cell_type": "code",
   "execution_count": 2,
   "metadata": {
    "collapsed": true
   },
   "outputs": [],
   "source": [
    "# local directory\n",
    "local_dir = '/Volumes/ChangHDD/project/cenque/observations/'"
   ]
  },
  {
   "cell_type": "code",
   "execution_count": 3,
   "metadata": {
    "collapsed": true
   },
   "outputs": [],
   "source": [
    "# VAGC group catalog (all) M_r cut = 18\n",
    "vagc_file = ''.join([local_dir, 'GroupCat.Mr18.Mass9.4.D360.all.hdf5']) \n",
    "f = h5py.File(vagc_file, 'r')\n",
    "grp = f['data']\n",
    "\n",
    "# save to dictionary\n",
    "vagc = {}\n",
    "for key in grp.keys(): \n",
    "    vagc[key] = grp[key].value"
   ]
  },
  {
   "cell_type": "code",
   "execution_count": 4,
   "metadata": {
    "collapsed": true
   },
   "outputs": [],
   "source": [
    "# import NSA catalog that's cross matched with VAGC-GALEX-2MASS data \n",
    "# and also contains SFR derived from GALEX UV (see nsa_galex_2mass.ipynb)\n",
    "nsa_file = ''.join([local_dir, 'NSA_2MASS_UVSFR.p'])\n",
    "nsa_dat = pickle.load(open(nsa_file, 'rb'))"
   ]
  },
  {
   "cell_type": "code",
   "execution_count": 5,
   "metadata": {
    "collapsed": false
   },
   "outputs": [
    {
     "ename": "SyntaxError",
     "evalue": "invalid syntax (<ipython-input-5-b742b2c068db>, line 8)",
     "output_type": "error",
     "traceback": [
      "\u001b[0;36m  File \u001b[0;32m\"<ipython-input-5-b742b2c068db>\"\u001b[0;36m, line \u001b[0;32m8\u001b[0m\n\u001b[0;31m    for key in nsa_dat.keys()\u001b[0m\n\u001b[0m                             ^\u001b[0m\n\u001b[0;31mSyntaxError\u001b[0m\u001b[0;31m:\u001b[0m invalid syntax\n"
     ]
    }
   ],
   "source": [
    "# transfer to dictionary with limited keys for convenience\n",
    "nsa = {} \n",
    "for key in ['ra', 'dec', 'z']: \n",
    "    nsa[key] = nsa_dat[key]\n",
    "    \n",
    "nsa['mass'] = np.log10(nsa_dat['mass']) # stellar mass from k-correct\n",
    "\n",
    "for key in nsa_dat.keys(): # SFRs that were derived from GALEX UV\n",
    "    if 'sfr' in key: \n",
    "        nsa[key] = np.log10(nsa_dat[key])\n",
    "\n",
    "# calculate some colors that will be used to address the ref report\n",
    "nsa['nuv-r'] = nsa_dat['absmag'][:,1] - nsa_dat['absmag'][:,4]\n",
    "nsa['r-j'] = nsa_dat['vagc_absmag_r'] - nsa_dat['vagc_absmag_j']"
   ]
  },
  {
   "cell_type": "code",
   "execution_count": 6,
   "metadata": {
    "collapsed": false
   },
   "outputs": [
    {
     "name": "stdout",
     "output_type": "stream",
     "text": [
      "-19.667 -19.5226287842\n",
      "-18.4002 -18.4193000793\n",
      "-15.5081 -14.8116579056\n",
      "-20.4006 -20.5390167236\n",
      "-16.5895 -16.5115909576\n",
      "-15.2733 -999.0\n",
      "-16.2422 -14.7895030975\n",
      "-18.7064 -18.5783786774\n",
      "-16.3601 -16.1415405273\n",
      "-19.6146 -19.5316905975\n",
      "-19.2393 -19.2129268646\n"
     ]
    }
   ],
   "source": [
    "for i in range(11): \n",
    "    print nsa_dat['absmag'][i,4], nsa_dat['vagc_absmag_r'][i]"
   ]
  },
  {
   "cell_type": "code",
   "execution_count": null,
   "metadata": {
    "collapsed": true
   },
   "outputs": [],
   "source": []
  }
 ],
 "metadata": {
  "kernelspec": {
   "display_name": "Python 2",
   "language": "python",
   "name": "python2"
  },
  "language_info": {
   "codemirror_mode": {
    "name": "ipython",
    "version": 2
   },
   "file_extension": ".py",
   "mimetype": "text/x-python",
   "name": "python",
   "nbconvert_exporter": "python",
   "pygments_lexer": "ipython2",
   "version": "2.7.10"
  }
 },
 "nbformat": 4,
 "nbformat_minor": 0
}
