{
 "cells": [
  {
   "cell_type": "markdown",
   "metadata": {},
   "source": [
    "# Make NSA Catalog with 2MASS magnitudes and UV SFR"
   ]
  },
  {
   "cell_type": "code",
   "execution_count": 1,
   "metadata": {
    "collapsed": false
   },
   "outputs": [
    {
     "name": "stderr",
     "output_type": "stream",
     "text": [
      "/usr/local/lib/python2.7/site-packages/IPython/kernel/__init__.py:13: ShimWarning: The `IPython.kernel` package has been deprecated. You should import from ipykernel or jupyter_client instead.\n",
      "  \"You should import from ipykernel or jupyter_client instead.\", ShimWarning)\n"
     ]
    }
   ],
   "source": [
    "import numpy as np\n",
    "import h5py\n",
    "from pydl.pydlutils.spheregroup import spherematch\n",
    "from ChangTools.fitstables import mrdfits\n",
    "\n",
    "import matplotlib.pyplot as plt\n",
    "from ChangTools.plotting import prettyplot\n",
    "from ChangTools.plotting import prettycolors\n",
    "%matplotlib inline "
   ]
  },
  {
   "cell_type": "code",
   "execution_count": 2,
   "metadata": {
    "collapsed": true
   },
   "outputs": [],
   "source": [
    "prettyplot()\n",
    "pretty_colors = prettycolors()"
   ]
  },
  {
   "cell_type": "code",
   "execution_count": 3,
   "metadata": {
    "collapsed": true
   },
   "outputs": [],
   "source": [
    "from astropy.cosmology import FlatLambdaCDM\n",
    "cosmo = FlatLambdaCDM(H0=70, Om0=0.3)"
   ]
  },
  {
   "cell_type": "code",
   "execution_count": 4,
   "metadata": {
    "collapsed": true
   },
   "outputs": [],
   "source": [
    "local_dir = '/Volumes/750GB/hahn/cenque/observations/'"
   ]
  },
  {
   "cell_type": "markdown",
   "metadata": {},
   "source": [
    "### Import v_0_1_2 NSA"
   ]
  },
  {
   "cell_type": "code",
   "execution_count": 5,
   "metadata": {
    "collapsed": false
   },
   "outputs": [
    {
     "name": "stdout",
     "output_type": "stream",
     "text": [
      "145155 galaxies\n"
     ]
    }
   ],
   "source": [
    "nsa_data = mrdfits(local_dir+'nsa_v0_1_2.fits')\n",
    "print len(nsa_data.ra), 'galaxies'"
   ]
  },
  {
   "cell_type": "code",
   "execution_count": 6,
   "metadata": {
    "collapsed": false
   },
   "outputs": [
    {
     "name": "stdout",
     "output_type": "stream",
     "text": [
      "['hafluxerr', 'platequality', 'havmeas', 'dversion', 'b300', 'o3ewerr', 'ahdewerr', 'isdss', 'o3fluxerr', 'profmean_ivar', 's2fluxerr', 'z', 'dflags', 'o2flux', 'hbfluxerr', 'nmgy_ivar', 'd4000', 'ra', 'o1ew', 'plate', 'n2flux', 'haflux', 'ba50', 'petroth50', 'zlg', 'absmag', 'racat', 'vdisp', 'o1ewerr', 'ne3ew', 'programname', 'hbvmeas', 'haew', 'mets', 'profmean', 'sersicflux', 'nmgy', 'ahdew', 'o1flux', 'ne5ew', 'phi50', 'petrotheta', 'proftheta', 'ahgewerr', 'd4000err', 'o3vmerr', 'plug_dec', 'izcat', 'subdir', 'o2ew', 'o2vmeas', 'run', 'faerr', 'ypos', 'asymmetry', 'o1fluxerr', 'ahgew', 'o2ewerr', 's2flux', 'fiberflux', 'amivar', 'dec', 'ok', 'sersic_ba', 'n2fluxerr', 'iauname', 'n2ewerr', 'petroflux_ivar', 'itwodf', 'haewerr', 'camcol', 'zsrc', 'petroflux', 'isixdf', 'o1vmeas', 'o3ew', 'n2vmeas', 'extinction', 'ycen', 'size', 'hbflux', 'havmerr', 'ined', 'phistokes', 'kcorrect', 'b1000', 'xpos', 'rnmgy', 'qstokes', 'hbvmerr', 'ne3ewerr', 'clumpy', 'sersic_n', 'o2vmerr', 'o3flux', 'coeff', 'petroth90', 'sersic_phi', 'rerun', 'aid', 's2vmerr', 'objno', 'ustokes', 'ialfalfa', 'mtol', 'pid', 'fiberid', 'n2ew', 'av', 'fiberflux_ivar', 'phi90', 's2ew', 'sersicflux_ivar', 'n2vmerr', 'o3vmeas', 'bastokes', 'deccat', 'o1vmerr', 'ba90', 'field', 'kcoeff', 'o2fluxerr', 'zdist_err', 'tile', 'survey', 'hbewerr', 's2nsamp', 'nsaid', 'sersic_th50', 'zsdssline', 'fa', 'nprof', 'mag', 'ne5ewerr', 's2ratio', 'mjd', 'xcen', 'plug_ra', 'hbew', 'zdist', 'mass', 's2vmeas', 's2ewerr']\n"
     ]
    }
   ],
   "source": [
    "print nsa_data.__dict__.keys()"
   ]
  },
  {
   "cell_type": "markdown",
   "metadata": {},
   "source": [
    "### Import 2MASS catalog from VAGC link"
   ]
  },
  {
   "cell_type": "code",
   "execution_count": 7,
   "metadata": {
    "collapsed": false
   },
   "outputs": [
    {
     "name": "stdout",
     "output_type": "stream",
     "text": [
      "2506754 galaxies\n"
     ]
    }
   ],
   "source": [
    "twomass_data = mrdfits(local_dir+'object_twomass.fits')\n",
    "print len(twomass_data.ra), 'galaxies'"
   ]
  },
  {
   "cell_type": "code",
   "execution_count": null,
   "metadata": {
    "collapsed": true
   },
   "outputs": [],
   "source": []
  },
  {
   "cell_type": "markdown",
   "metadata": {},
   "source": [
    "### Match up 2MASS J, H, K magnitues with NSA and save everything into dictionary"
   ]
  },
  {
   "cell_type": "code",
   "execution_count": 8,
   "metadata": {
    "collapsed": true
   },
   "outputs": [],
   "source": [
    "m_nsa_2mass, m_2mass_nsa, dd = spherematch(nsa_data.ra, nsa_data.dec, twomass_data.ra, twomass_data.decl, 0.001)"
   ]
  },
  {
   "cell_type": "code",
   "execution_count": 9,
   "metadata": {
    "collapsed": false
   },
   "outputs": [],
   "source": [
    "nsa = {} \n",
    "for key in nsa_data.__dict__.keys(): \n",
    "    nsa[key] = getattr(nsa_data, key)"
   ]
  },
  {
   "cell_type": "code",
   "execution_count": 10,
   "metadata": {
    "collapsed": true
   },
   "outputs": [],
   "source": [
    "# 2MASS apparent magnitudes\n",
    "for band in ['j', 'h', 'k']:  # 2MASS bands\n",
    "    for tag in ['_k20fe', '_ext', '_fe']:\n",
    "        nsa['2mass_'+band+'_m'+tag] = np.repeat(-999., len(nsa['ra']))\n",
    "        nsa['2mass_'+band+'_msig'+tag] = np.repeat(-999., len(nsa['ra']))\n",
    "        nsa['2mass_'+band+'_absmag'+tag] = np.repeat(-999., len(nsa['ra']))\n",
    "        \n",
    "        nsa['2mass_'+band+'_m'+tag][m_nsa_2mass] = getattr(twomass_data, band+'_m'+tag)[m_2mass_nsa]\n",
    "        nsa['2mass_'+band+'_msig'+tag][m_nsa_2mass] = getattr(twomass_data, band+'_msig'+tag)[m_2mass_nsa]"
   ]
  },
  {
   "cell_type": "code",
   "execution_count": 21,
   "metadata": {
    "collapsed": false
   },
   "outputs": [
    {
     "name": "stdout",
     "output_type": "stream",
     "text": [
      "[-21.29169772 -21.26281398 -22.75806779 -23.5353343  -21.01048355\n",
      " -21.22817241 -23.58230295 -22.32510998 -21.98991634 -21.65450541]\n",
      "[-21.38669798 -21.56881374 -22.95706719 -23.64233465 -21.07248382\n",
      " -21.33417235 -23.78430261 -22.46610978 -22.368917   -21.7585055 ]\n",
      "[-21.35169813 -21.46881336 -22.83106774 -23.6223342  -21.04048328\n",
      " -21.28717242 -23.59230222 -22.37910988 -22.34091617 -21.76250521]\n",
      "[-21.98069784 -22.04281372 -23.565067   -24.22133417 -36.70348339\n",
      " -22.01017199 -24.2793025  -23.05411007 -22.47991611 -22.13050524]\n",
      "[-22.10969756 -22.21781391 -23.74806756 -24.36433382 -21.83848361\n",
      " -22.34717284 -24.48730268 -23.24910977 -22.97291614 -22.15750567]\n",
      "[-22.04769728 -22.15681404 -23.6370675  -24.29933424 -36.70348339\n",
      " -22.15517245 -24.28830232 -23.12910988 -22.86091663 -22.22850577]\n",
      "[-22.28569815 -22.2868132  -23.93206758 -24.49333449 -22.261483\n",
      " -22.23817264 -24.61630239 -23.39110997 -22.80091621 -22.67550531]\n",
      "[-22.40269778 -22.66581386 -24.09106702 -24.62033434 -22.41648368\n",
      " -22.44517241 -24.75230207 -23.54011014 -23.27191688 -22.95150534]\n",
      "[-22.34869788 -22.46081394 -23.99106759 -24.57133456 -22.36648349\n",
      " -22.35517226 -24.62330236 -23.46410992 -23.21891643 -22.84350554]\n"
     ]
    },
    {
     "name": "stderr",
     "output_type": "stream",
     "text": [
      "/usr/local/lib/python2.7/site-packages/ipykernel/__main__.py:5: RuntimeWarning: divide by zero encountered in log10\n",
      "/usr/local/lib/python2.7/site-packages/ipykernel/__main__.py:5: RuntimeWarning: invalid value encountered in log10\n"
     ]
    }
   ],
   "source": [
    "d_L = cosmo.luminosity_distance(nsa['z'][m_nsa_2mass]).value # luminosity distance\n",
    "#d_L = (1.+nsa['z'][m_nsa_2mass])*d_m.value\n",
    "for band in ['j', 'h', 'k']: \n",
    "    for tag in ['_k20fe', '_ext', '_fe']:         \n",
    "        nsa['2mass_'+band+'_absmag'+tag][m_nsa_2mass] = nsa['2mass_'+band+'_m'+tag][m_nsa_2mass] - 5.*(np.log10(d_L*1e6) - 1.)\n",
    "        print nsa['2mass_'+band+'_absmag'+tag][m_nsa_2mass][:10]"
   ]
  },
  {
   "cell_type": "markdown",
   "metadata": {},
   "source": [
    "## Calculate $SFR_{UV}$ \n",
    "These functions are from Nitya's code"
   ]
  },
  {
   "cell_type": "code",
   "execution_count": 12,
   "metadata": {
    "collapsed": true
   },
   "outputs": [],
   "source": [
    "def jansky(flux, kcorrect):\n",
    "    '''Getting fluxes in Janskies from Nanomaggies:\n",
    "    Inputs: Choose Petrosian/Sersic Nmgy and the relevant Kcorrection\n",
    "    '''\n",
    "    flux_in_Jy = flux*3631*(10.0**(-9.0))*(10**(kcorrect/(-2.5)))\n",
    "    return flux_in_Jy"
   ]
  },
  {
   "cell_type": "code",
   "execution_count": 13,
   "metadata": {
    "collapsed": true
   },
   "outputs": [],
   "source": [
    "def jansky_err(flux,kcorrect):\n",
    "    '''Inverse Variance in Fluxes: (Input Flux inverse variance in Nmgy^-2)\n",
    "    '''\n",
    "    Jy_err = (flux**(-0.5))*3631*(10.0**(-9.0))*(10**(kcorrect/(-2.5)))\n",
    "    return Jy_err"
   ]
  },
  {
   "cell_type": "code",
   "execution_count": 14,
   "metadata": {
    "collapsed": true
   },
   "outputs": [],
   "source": [
    "def UVsfr(z,fmag,nmag,rmag,f_flux):\n",
    "    ''' Calculate UV star formation rates. \n",
    "    Inputs: NSAID,z,F-band magnitude, N-band magnitude, r-band magnitude, F-band flux in Janskies\n",
    "    '''\n",
    "    fn = fmag - nmag\n",
    "    opt = nmag - rmag   # N-r\n",
    "    \n",
    "    #Luminosity Distance\n",
    "    dist = cosmo.comoving_distance(z)\n",
    "    ldist = (1+z)*dist\n",
    "    \n",
    "    #calculating Attenuation 'atten'\n",
    "    atten = np.repeat(-999., len(fmag)) \n",
    "\n",
    "    case1 = np.where((opt > 4.) & (fn < 0.95)) \n",
    "    atten[case1] = 3.32*fn[case1] + 0.22\n",
    "    case2 = np.where((opt > 4.) & (fn >= 0.95))\n",
    "    atten[case2] = 3.37\n",
    "    case3 = np.where((opt <= 4.) & (fn < 0.9))\n",
    "    atten[case3] = 2.99*fn[case3] + 0.27\n",
    "    case4 = np.where((opt <= 4.) & (fn >= 0.9))\n",
    "    atten[case4] = 2.96\n",
    "\n",
    "    #if opt >= 4.0:\n",
    "    #    if fn < 0.95:\n",
    "    #        atten = 3.32*fn + 0.22\n",
    "    #    else:\n",
    "    #        atten = 3.37\n",
    "    #else:\n",
    "    #    if fn < 0.90:\n",
    "    #        atten = 2.99*fn +0.27\n",
    "    #    else:\n",
    "    #        atten = 2.96\n",
    "\n",
    "    lum = 4.*np.pi*(ldist**2.0)*(3.087**2.0)*(10**(25.0 +(atten/2.5)))*f_flux  #Luminosity\n",
    "    sfr = 1.08*(10**(-28.0))*np.abs(lum)\n",
    "    return sfr"
   ]
  },
  {
   "cell_type": "code",
   "execution_count": 15,
   "metadata": {
    "collapsed": true
   },
   "outputs": [],
   "source": [
    "def NSA_SFR_UV(nsa_data, flux_choice): \n",
    "    ''' Given NSA data dictionary calculate the UV sfrs \n",
    "    '''\n",
    "    if flux_choice not in ['elpetro', 'sersic']: \n",
    "        raise ValueError\n",
    "        \n",
    "    if flux_choice == 'elpetro': \n",
    "        flux_tag = 'petroflux'\n",
    "    elif flux_choice == 'sersic': \n",
    "        flux_tag = 'sersicflux'\n",
    "\n",
    "    fuv_nanomags = nsa_data[flux_tag][:,0]\n",
    "    not_nans = (fuv_nanomags > 0.) \n",
    "    print len(fuv_nanomags) - np.sum(not_nans), \" galaxies don't have UV\"\n",
    "\n",
    "    fuv_jansky = np.repeat(-999., len(fuv_nanomags))\n",
    "    fuv_jansky[np.where(not_nans)] = jansky(fuv_nanomags[np.where(not_nans)], 0.) \n",
    "\n",
    "    absmags = nsa_data['absmag']\n",
    "    f_notnans = (absmags[:,0] != -9999.)\n",
    "    n_notnans = (absmags[:,1] != -9999.)\n",
    "    r_notnans = (absmags[:,4] != -9999.)\n",
    "    \n",
    "    has_everything = np.where(not_nans & f_notnans & n_notnans & r_notnans)\n",
    "    uvsfrs = np.repeat(-999., len(fuv_nanomags))\n",
    "    uvsfrs[has_everything] = UVsfr(\n",
    "            nsa_data['z'][has_everything], \n",
    "            absmags[:,0][has_everything], \n",
    "            absmags[:,1][has_everything], \n",
    "            absmags[:,4][has_everything], \n",
    "            fuv_jansky[has_everything])\n",
    "\n",
    "    return uvsfrs "
   ]
  },
  {
   "cell_type": "markdown",
   "metadata": {},
   "source": [
    "### Add $SFR_{UV}$ values to NSA dictionary"
   ]
  },
  {
   "cell_type": "code",
   "execution_count": 16,
   "metadata": {
    "collapsed": false
   },
   "outputs": [
    {
     "name": "stdout",
     "output_type": "stream",
     "text": [
      "28429  galaxies don't have UV\n",
      "26351  galaxies don't have UV\n"
     ]
    },
    {
     "name": "stderr",
     "output_type": "stream",
     "text": [
      "/usr/local/lib/python2.7/site-packages/ipykernel/__main__.py:13: RuntimeWarning: invalid value encountered in greater\n"
     ]
    }
   ],
   "source": [
    "nsa['sfr_uv_elpetro'] = NSA_SFR_UV(nsa, 'elpetro')\n",
    "nsa['sfr_uv_sersic'] = NSA_SFR_UV(nsa, 'sersic')"
   ]
  },
  {
   "cell_type": "code",
   "execution_count": 17,
   "metadata": {
    "collapsed": false
   },
   "outputs": [
    {
     "name": "stderr",
     "output_type": "stream",
     "text": [
      "/usr/local/lib/python2.7/site-packages/ipykernel/__main__.py:4: RuntimeWarning: divide by zero encountered in log10\n",
      "/usr/local/lib/python2.7/site-packages/ipykernel/__main__.py:4: RuntimeWarning: invalid value encountered in log10\n"
     ]
    },
    {
     "data": {
      "text/plain": [
       "(-3.0, 3.0)"
      ]
     },
     "execution_count": 17,
     "metadata": {},
     "output_type": "execute_result"
    },
    {
     "data": {
      "image/png": "[encoded data removed]",
      "text/plain": [
       "<matplotlib.figure.Figure at 0x1538117d0>"
      ]
     },
     "metadata": {},
     "output_type": "display_data"
    }
   ],
   "source": [
    "fig = plt.figure(figsize=(8,8))\n",
    "sub = fig.add_subplot(111)\n",
    "\n",
    "sub.scatter(np.log10(nsa['sfr_uv_elpetro']), np.log10(nsa['sfr_uv_sersic']), c=pretty_colors[3], lw=0)\n",
    "\n",
    "sub.plot([-3.,3.], [-3.,3.], c='k', ls='--', lw=3)\n",
    "sub.set_xlim([-3., 3.])\n",
    "sub.set_ylim([-3., 3.])"
   ]
  },
  {
   "cell_type": "markdown",
   "metadata": {},
   "source": [
    "# Save NSA dictionary "
   ]
  },
  {
   "cell_type": "code",
   "execution_count": 18,
   "metadata": {
    "collapsed": true
   },
   "outputs": [],
   "source": [
    "import pickle"
   ]
  },
  {
   "cell_type": "code",
   "execution_count": 19,
   "metadata": {
    "collapsed": true
   },
   "outputs": [],
   "source": [
    "pickle.dump(nsa, open(local_dir+'NSA_2MASS_UVSFR.p', 'wb'))"
   ]
  },
  {
   "cell_type": "code",
   "execution_count": null,
   "metadata": {
    "collapsed": true
   },
   "outputs": [],
   "source": []
  }
 ],
 "metadata": {
  "kernelspec": {
   "display_name": "Python 2",
   "language": "python",
   "name": "python2"
  },
  "language_info": {
   "codemirror_mode": {
    "name": "ipython",
    "version": 2
   },
   "file_extension": ".py",
   "mimetype": "text/x-python",
   "name": "python",
   "nbconvert_exporter": "python",
   "pygments_lexer": "ipython2",
   "version": "2.7.9"
  }
 },
 "nbformat": 4,
 "nbformat_minor": 0
}
