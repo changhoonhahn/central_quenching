{
 "cells": [
  {
   "cell_type": "markdown",
   "metadata": {},
   "source": [
    "# Make NSA Catalog with 2MASS magnitudes and UV SFR"
   ]
  },
  {
   "cell_type": "code",
   "execution_count": 1,
   "metadata": {
    "collapsed": false
   },
   "outputs": [],
   "source": [
    "import numpy as np\n",
    "import h5py\n",
    "from pydl.pydlutils.spheregroup import spherematch\n",
    "from ChangTools.fitstables import mrdfits\n",
    "\n",
    "import matplotlib.pyplot as plt\n",
    "from ChangTools.plotting import prettyplot\n",
    "from ChangTools.plotting import prettycolors\n",
    "%matplotlib inline "
   ]
  },
  {
   "cell_type": "code",
   "execution_count": 2,
   "metadata": {
    "collapsed": true
   },
   "outputs": [],
   "source": [
    "prettyplot()\n",
    "pretty_colors = prettycolors()"
   ]
  },
  {
   "cell_type": "code",
   "execution_count": 3,
   "metadata": {
    "collapsed": true
   },
   "outputs": [],
   "source": [
    "from astropy.cosmology import FlatLambdaCDM\n",
    "cosmo = FlatLambdaCDM(H0=70, Om0=0.3)"
   ]
  },
  {
   "cell_type": "code",
   "execution_count": 6,
   "metadata": {
    "collapsed": true
   },
   "outputs": [],
   "source": [
    "#local_dir = '/Volumes/750GB/hahn/cenque/observations/'\n",
    "local_dir = '/Volumes/ChangHDD/project/cenque/observations/'"
   ]
  },
  {
   "cell_type": "markdown",
   "metadata": {},
   "source": [
    "### Import v_0_1_2 NSA"
   ]
  },
  {
   "cell_type": "code",
   "execution_count": 7,
   "metadata": {
    "collapsed": false
   },
   "outputs": [
    {
     "name": "stdout",
     "output_type": "stream",
     "text": [
      "145155 galaxies\n"
     ]
    }
   ],
   "source": [
    "nsa_data = mrdfits(local_dir+'nsa_v0_1_2.fits')\n",
    "print len(nsa_data.ra), 'galaxies'"
   ]
  },
  {
   "cell_type": "code",
   "execution_count": 35,
   "metadata": {
    "collapsed": false
   },
   "outputs": [
    {
     "name": "stdout",
     "output_type": "stream",
     "text": [
      "['hafluxerr', 'platequality', 'havmeas', 'dversion', 'b300', 'o3ewerr', 'ahdewerr', 'isdss', 'o3fluxerr', 'profmean_ivar', 's2fluxerr', 'z', 'dflags', 'o2flux', 'hbfluxerr', 'nmgy_ivar', 'd4000', 'ra', 'o1ew', 'plate', 'n2flux', 'haflux', 'ba50', 'petroth50', 'zlg', 'absmag', 'racat', 'vdisp', 'o1ewerr', 'ne3ew', 'programname', 'hbvmeas', 'haew', 'mets', 'profmean', 'sersicflux', 'nmgy', 'ahdew', 'o1flux', 'ne5ew', 'phi50', 'petrotheta', 'proftheta', 'ahgewerr', 'd4000err', 'o3vmerr', 'plug_dec', 'izcat', 'subdir', 'o2ew', 'o2vmeas', 'run', 'faerr', 'ypos', 'asymmetry', 'o1fluxerr', 'ahgew', 'o2ewerr', 's2flux', 'fiberflux', 'amivar', 'dec', 'ok', 'sersic_ba', 'n2fluxerr', 'iauname', 'n2ewerr', 'petroflux_ivar', 'itwodf', 'haewerr', 'camcol', 'zsrc', 'petroflux', 'isixdf', 'o1vmeas', 'o3ew', 'n2vmeas', 'extinction', 'ycen', 'size', 'hbflux', 'havmerr', 'ined', 'phistokes', 'kcorrect', 'b1000', 'xpos', 'rnmgy', 'qstokes', 'hbvmerr', 'ne3ewerr', 'clumpy', 'sersic_n', 'o2vmerr', 'o3flux', 'coeff', 'petroth90', 'sersic_phi', 'rerun', 'aid', 's2vmerr', 'objno', 'ustokes', 'ialfalfa', 'mtol', 'pid', 'fiberid', 'n2ew', 'av', 'fiberflux_ivar', 'phi90', 's2ew', 'sersicflux_ivar', 'n2vmerr', 'o3vmeas', 'bastokes', 'deccat', 'o1vmerr', 'ba90', 'field', 'kcoeff', 'o2fluxerr', 'zdist_err', 'tile', 'survey', 'hbewerr', 's2nsamp', 'nsaid', 'sersic_th50', 'zsdssline', 'fa', 'nprof', 'mag', 'ne5ewerr', 's2ratio', 'mjd', 'xcen', 'plug_ra', 'hbew', 'zdist', 'mass', 's2vmeas', 's2ewerr']\n",
      "[[-15.16735649 -15.81664753 -17.19088364 ..., -19.66703987 -20.00378036\n",
      "  -20.29624748]\n",
      " [-15.458004   -15.9360714  -16.96663475 ..., -18.40015793 -18.55085945\n",
      "  -18.71431732]\n",
      " [-12.26734161 -12.70632267 -14.09855556 ..., -15.50806427 -15.67903805\n",
      "  -15.7384119 ]\n",
      " ..., \n",
      " [ -7.61118174  -8.02473927  -9.46707535 ..., -11.80273819 -12.30291271\n",
      "  -12.68997955]\n",
      " [ -6.64202499  -6.7601223   -9.26023483 ..., -10.29030609 -11.4883728\n",
      "  -11.71730804]\n",
      " [-11.58686733 -11.61635399 -13.55922127 ..., -11.99753475 -12.16088867\n",
      "  -12.56767082]]\n"
     ]
    }
   ],
   "source": [
    "print nsa_data.__dict__.keys()\n",
    "print nsa_data.absmag"
   ]
  },
  {
   "cell_type": "markdown",
   "metadata": {},
   "source": [
    "### Import J,H,K absolute magnitude from VAGC k-correct"
   ]
  },
  {
   "cell_type": "code",
   "execution_count": 10,
   "metadata": {
    "collapsed": false
   },
   "outputs": [
    {
     "name": "stdout",
     "output_type": "stream",
     "text": [
      "2506754\n"
     ]
    }
   ],
   "source": [
    "#twomass_data = mrdfits(local_dir+'object_twomass.fits')\n",
    "#print len(twomass_data.ra), 'galaxies'\n",
    "\n",
    "kcorr_data = mrdfits(local_dir+'kcorrect.none.model.z0.00.fits') # VAGC kcorrect with model fluxes\n",
    "print len(kcorr_data.ra)"
   ]
  },
  {
   "cell_type": "markdown",
   "metadata": {},
   "source": [
    "### Match VAGC to NSA"
   ]
  },
  {
   "cell_type": "code",
   "execution_count": 12,
   "metadata": {
    "collapsed": false
   },
   "outputs": [],
   "source": [
    "m_nsa_kcorr, m_kcorr_nsa, dd = spherematch(nsa_data.ra, nsa_data.dec, kcorr_data.ra, kcorr_data.dec, 0.001)"
   ]
  },
  {
   "cell_type": "code",
   "execution_count": 15,
   "metadata": {
    "collapsed": false
   },
   "outputs": [
    {
     "name": "stdout",
     "output_type": "stream",
     "text": [
      "126549 126549\n"
     ]
    }
   ],
   "source": [
    "print len(np.unique(m_nsa_kcorr)), len(m_nsa_kcorr)"
   ]
  },
  {
   "cell_type": "code",
   "execution_count": 13,
   "metadata": {
    "collapsed": true
   },
   "outputs": [],
   "source": [
    "# construct dictionary with all the NSA values\n",
    "nsa = {} \n",
    "for key in nsa_data.__dict__.keys(): \n",
    "    nsa[key] = getattr(nsa_data, key)"
   ]
  },
  {
   "cell_type": "code",
   "execution_count": 38,
   "metadata": {
    "collapsed": false
   },
   "outputs": [],
   "source": [
    "# supplement NSA absolute magnitude values\n",
    "nsa['vagc_id'] = np.repeat(-999., len(nsa['ra']))\n",
    "nsa['vagc_id'][m_nsa_kcorr] = m_kcorr_nsa\n",
    "for i_band, band in enumerate(['u', 'g', 'r', 'i', 'z', 'j', 'h', 'k']): \n",
    "    nsa['vagc_absmag_'+band] = np.repeat(-999., len(nsa['ra']))\n",
    "    nsa['vagc_absmag_'+band][m_nsa_kcorr] = kcorr_data.absmag[:,i_band][m_kcorr_nsa]"
   ]
  },
  {
   "cell_type": "code",
   "execution_count": 39,
   "metadata": {
    "collapsed": false
   },
   "outputs": [
    {
     "name": "stdout",
     "output_type": "stream",
     "text": [
      "[ -19.52262878  -18.41930008  -14.81165791  -20.53901672  -16.51159096\n",
      " -999.          -14.7895031   -18.57837868  -16.14154053  -19.5316906 ]\n"
     ]
    }
   ],
   "source": [
    "print nsa['vagc_absmag_r'][:10]"
   ]
  },
  {
   "cell_type": "markdown",
   "metadata": {},
   "source": [
    "### Supplement NSA with $SFR_{UV}$ from GALEX \n",
    "These functions are from Nitya's code"
   ]
  },
  {
   "cell_type": "code",
   "execution_count": 40,
   "metadata": {
    "collapsed": true
   },
   "outputs": [],
   "source": [
    "def jansky(flux, kcorrect):\n",
    "    '''Getting fluxes in Janskies from Nanomaggies:\n",
    "    Inputs: Choose Petrosian/Sersic Nmgy and the relevant Kcorrection\n",
    "    '''\n",
    "    flux_in_Jy = flux*3631*(10.0**(-9.0))*(10**(kcorrect/(-2.5)))\n",
    "    return flux_in_Jy"
   ]
  },
  {
   "cell_type": "code",
   "execution_count": 41,
   "metadata": {
    "collapsed": true
   },
   "outputs": [],
   "source": [
    "def jansky_err(flux,kcorrect):\n",
    "    '''Inverse Variance in Fluxes: (Input Flux inverse variance in Nmgy^-2)\n",
    "    '''\n",
    "    Jy_err = (flux**(-0.5))*3631*(10.0**(-9.0))*(10**(kcorrect/(-2.5)))\n",
    "    return Jy_err"
   ]
  },
  {
   "cell_type": "code",
   "execution_count": 42,
   "metadata": {
    "collapsed": true
   },
   "outputs": [],
   "source": [
    "def UVsfr(z,fmag,nmag,rmag,f_flux):\n",
    "    ''' Calculate UV star formation rates. \n",
    "    Inputs: NSAID,z,F-band magnitude, N-band magnitude, r-band magnitude, F-band flux in Janskies\n",
    "    '''\n",
    "    fn = fmag - nmag\n",
    "    opt = nmag - rmag   # N-r\n",
    "    \n",
    "    #Luminosity Distance\n",
    "    dist = cosmo.comoving_distance(z)\n",
    "    ldist = (1+z)*dist\n",
    "    \n",
    "    #calculating Attenuation 'atten'\n",
    "    atten = np.repeat(-999., len(fmag)) \n",
    "\n",
    "    case1 = np.where((opt > 4.) & (fn < 0.95)) \n",
    "    atten[case1] = 3.32*fn[case1] + 0.22\n",
    "    case2 = np.where((opt > 4.) & (fn >= 0.95))\n",
    "    atten[case2] = 3.37\n",
    "    case3 = np.where((opt <= 4.) & (fn < 0.9))\n",
    "    atten[case3] = 2.99*fn[case3] + 0.27\n",
    "    case4 = np.where((opt <= 4.) & (fn >= 0.9))\n",
    "    atten[case4] = 2.96\n",
    "\n",
    "    #if opt >= 4.0:\n",
    "    #    if fn < 0.95:\n",
    "    #        atten = 3.32*fn + 0.22\n",
    "    #    else:\n",
    "    #        atten = 3.37\n",
    "    #else:\n",
    "    #    if fn < 0.90:\n",
    "    #        atten = 2.99*fn +0.27\n",
    "    #    else:\n",
    "    #        atten = 2.96\n",
    "\n",
    "    lum = 4.*np.pi*(ldist**2.0)*(3.087**2.0)*(10**(25.0 +(atten/2.5)))*f_flux  #Luminosity\n",
    "    sfr = 1.08*(10**(-28.0))*np.abs(lum)\n",
    "    return sfr"
   ]
  },
  {
   "cell_type": "code",
   "execution_count": 43,
   "metadata": {
    "collapsed": true
   },
   "outputs": [],
   "source": [
    "def NSA_SFR_UV(nsa_data, flux_choice): \n",
    "    ''' Given NSA data dictionary calculate the UV sfrs \n",
    "    '''\n",
    "    if flux_choice not in ['elpetro', 'sersic']: \n",
    "        raise ValueError\n",
    "        \n",
    "    if flux_choice == 'elpetro': \n",
    "        flux_tag = 'petroflux'\n",
    "    elif flux_choice == 'sersic': \n",
    "        flux_tag = 'sersicflux'\n",
    "\n",
    "    fuv_nanomags = nsa_data[flux_tag][:,0]\n",
    "    not_nans = (fuv_nanomags > 0.) \n",
    "    print len(fuv_nanomags) - np.sum(not_nans), \" galaxies don't have UV\"\n",
    "\n",
    "    fuv_jansky = np.repeat(-999., len(fuv_nanomags))\n",
    "    fuv_jansky[np.where(not_nans)] = jansky(fuv_nanomags[np.where(not_nans)], 0.) \n",
    "\n",
    "    absmags = nsa_data['absmag']\n",
    "    f_notnans = (absmags[:,0] != -9999.)\n",
    "    n_notnans = (absmags[:,1] != -9999.)\n",
    "    r_notnans = (absmags[:,4] != -9999.)\n",
    "    \n",
    "    has_everything = np.where(not_nans & f_notnans & n_notnans & r_notnans)\n",
    "    uvsfrs = np.repeat(-999., len(fuv_nanomags))\n",
    "    uvsfrs[has_everything] = UVsfr(\n",
    "            nsa_data['z'][has_everything], \n",
    "            absmags[:,0][has_everything], \n",
    "            absmags[:,1][has_everything], \n",
    "            absmags[:,4][has_everything], \n",
    "            fuv_jansky[has_everything])\n",
    "\n",
    "    return uvsfrs "
   ]
  },
  {
   "cell_type": "markdown",
   "metadata": {},
   "source": [
    "### Add $SFR_{UV}$ values to NSA dictionary"
   ]
  },
  {
   "cell_type": "code",
   "execution_count": 44,
   "metadata": {
    "collapsed": false
   },
   "outputs": [
    {
     "name": "stdout",
     "output_type": "stream",
     "text": [
      "28429  galaxies don't have UV\n",
      "26351  galaxies don't have UV\n"
     ]
    },
    {
     "name": "stderr",
     "output_type": "stream",
     "text": [
      "/usr/local/lib/python2.7/site-packages/ipykernel/__main__.py:13: RuntimeWarning: invalid value encountered in greater\n"
     ]
    }
   ],
   "source": [
    "nsa['sfr_uv_elpetro'] = NSA_SFR_UV(nsa, 'elpetro')\n",
    "nsa['sfr_uv_sersic'] = NSA_SFR_UV(nsa, 'sersic')"
   ]
  },
  {
   "cell_type": "code",
   "execution_count": 45,
   "metadata": {
    "collapsed": false
   },
   "outputs": [
    {
     "name": "stderr",
     "output_type": "stream",
     "text": [
      "/usr/local/lib/python2.7/site-packages/ipykernel/__main__.py:4: RuntimeWarning: divide by zero encountered in log10\n",
      "/usr/local/lib/python2.7/site-packages/ipykernel/__main__.py:4: RuntimeWarning: invalid value encountered in log10\n"
     ]
    },
    {
     "data": {
      "text/plain": [
       "(-5.0, 3.0)"
      ]
     },
     "execution_count": 45,
     "metadata": {},
     "output_type": "execute_result"
    },
    {
     "data": {
      "image/png": "[encoded data removed]",
      "text/plain": [
       "<matplotlib.figure.Figure at 0x135e7ff90>"
      ]
     },
     "metadata": {},
     "output_type": "display_data"
    }
   ],
   "source": [
    "fig = plt.figure(figsize=(8,8))\n",
    "sub = fig.add_subplot(111)\n",
    "\n",
    "sub.scatter(np.log10(nsa['sfr_uv_elpetro']), np.log10(nsa['sfr_uv_sersic']), c=pretty_colors[3], lw=0)\n",
    "sub.plot([-5.,3.], [-5.,3.], c='k', ls='--', lw=3)\n",
    "\n",
    "sub.set_xlabel('$\\mathtt{SFR_{UV}}$ Petrosian')\n",
    "sub.set_xlim([-5., 3.])\n",
    "sub.set_xlabel('$\\mathtt{SFR_{UV}}$ Sersic')\n",
    "sub.set_ylim([-5., 3.])"
   ]
  },
  {
   "cell_type": "markdown",
   "metadata": {},
   "source": [
    "# Save NSA dictionary to hdf5 file "
   ]
  },
  {
   "cell_type": "code",
   "execution_count": 46,
   "metadata": {
    "collapsed": true
   },
   "outputs": [],
   "source": [
    "import pickle"
   ]
  },
  {
   "cell_type": "code",
   "execution_count": 47,
   "metadata": {
    "collapsed": true
   },
   "outputs": [],
   "source": [
    "nsa_dict_file = ''.join([local_dir, 'NSA_2MASS_UVSFR.p'])"
   ]
  },
  {
   "cell_type": "code",
   "execution_count": 48,
   "metadata": {
    "collapsed": false
   },
   "outputs": [],
   "source": [
    "pickle.dump(nsa, open(nsa_dict_file, 'wb'))"
   ]
  },
  {
   "cell_type": "code",
   "execution_count": null,
   "metadata": {
    "collapsed": true
   },
   "outputs": [],
   "source": []
  }
 ],
 "metadata": {
  "kernelspec": {
   "display_name": "Python 2",
   "language": "python",
   "name": "python2"
  },
  "language_info": {
   "codemirror_mode": {
    "name": "ipython",
    "version": 2
   },
   "file_extension": ".py",
   "mimetype": "text/x-python",
   "name": "python",
   "nbconvert_exporter": "python",
   "pygments_lexer": "ipython2",
   "version": "2.7.10"
  }
 },
 "nbformat": 4,
 "nbformat_minor": 0
}
