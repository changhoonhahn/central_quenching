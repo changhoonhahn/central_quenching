{
 "cells": [
  {
   "cell_type": "markdown",
   "metadata": {},
   "source": [
    "# Comparison of derived galaxy properties from VAGC and NSA"
   ]
  },
  {
   "cell_type": "code",
   "execution_count": 3,
   "metadata": {
    "collapsed": false
   },
   "outputs": [
    {
     "name": "stderr",
     "output_type": "stream",
     "text": [
      "/usr/local/lib/python2.7/site-packages/IPython/kernel/__init__.py:13: ShimWarning: The `IPython.kernel` package has been deprecated. You should import from ipykernel or jupyter_client instead.\n",
      "  \"You should import from ipykernel or jupyter_client instead.\", ShimWarning)\n"
     ]
    }
   ],
   "source": [
    "import numpy as np\n",
    "import h5py\n",
    "from pydl.pydlutils.spheregroup import spherematch\n",
    "from ChangTools.fitstables import mrdfits\n",
    "\n",
    "import matplotlib.pyplot as plt\n",
    "from ChangTools.plotting import prettyplot\n",
    "from ChangTools.plotting import prettycolors\n",
    "%matplotlib inline "
   ]
  },
  {
   "cell_type": "code",
   "execution_count": 4,
   "metadata": {
    "collapsed": true
   },
   "outputs": [],
   "source": [
    "local_dir = '/Volumes/750GB/hahn/cenque/observations/'"
   ]
  },
  {
   "cell_type": "code",
   "execution_count": null,
   "metadata": {
    "collapsed": true
   },
   "outputs": [],
   "source": [
    "# VAGC group catalog (all) M_r cut = 18\n",
    "vagc_file = ''.join(['/Volumes/750GB/hahn/cenque/observations/', 'GroupCat.Mr18.Mass9.4.D360.all.hdf5']) \n",
    "f = h5py.File(vagc_file, 'r')\n",
    "grp = f['data']\n",
    "\n",
    "# save to dictionary\n",
    "vagc = {}\n",
    "for key in grp.keys(): \n",
    "    vagc[key] = grp[key].value"
   ]
  },
  {
   "cell_type": "markdown",
   "metadata": {},
   "source": [
    "# Make combined sample of NSA-2MASS"
   ]
  },
  {
   "cell_type": "code",
   "execution_count": 16,
   "metadata": {
    "collapsed": false
   },
   "outputs": [
    {
     "name": "stdout",
     "output_type": "stream",
     "text": [
      "145155 gaalxies\n"
     ]
    }
   ],
   "source": [
    "nsa_data = mrdfits(local_dir+'nsa_v0_1_2.fits')\n",
    "print len(nsa_data.ra), 'gaalxies'"
   ]
  },
  {
   "cell_type": "code",
   "execution_count": 20,
   "metadata": {
    "collapsed": false
   },
   "outputs": [
    {
     "name": "stdout",
     "output_type": "stream",
     "text": [
      "2506754 galaxies\n"
     ]
    }
   ],
   "source": [
    "twomass_data = mrdfits(local_dir+'object_twomass.fits')\n",
    "print len(twomass_data.ra), 'galaxies'"
   ]
  },
  {
   "cell_type": "code",
   "execution_count": 21,
   "metadata": {
    "collapsed": false
   },
   "outputs": [
    {
     "name": "stdout",
     "output_type": "stream",
     "text": [
      "[ 146.71420879  146.63173521  147.17644695  147.32950522  146.85676078\n",
      "  146.19324132  146.00780138  146.59449799  146.61906338  146.7517484 ] [-1.04128157 -0.98835486 -0.35403042  0.02889491 -0.27409464 -0.68939139\n",
      " -0.64225922 -0.13314606 -0.43434546 -0.40840274]\n",
      "[   0.          0.          0.        337.450317  338.114258    0.          0.\n",
      "  340.849152    0.        341.098816] [ 0.        0.        0.        1.266192  1.271849  0.        0.        1.2714\n",
      "  0.        1.266147]\n"
     ]
    }
   ],
   "source": [
    "print nsa_data.ra[:10], nsa_data.dec[:10]\n",
    "print twomass_data.ra[:10], twomass_data.decl[:10]"
   ]
  },
  {
   "cell_type": "code",
   "execution_count": 22,
   "metadata": {
    "collapsed": false
   },
   "outputs": [],
   "source": [
    "m_nsa_2mass, m_2mass_nsa, dd = spherematch(nsa_data.ra, nsa_data.dec, twomass_data.ra, twomass_data.decl, 0.001)"
   ]
  },
  {
   "cell_type": "code",
   "execution_count": 23,
   "metadata": {
    "collapsed": false
   },
   "outputs": [
    {
     "name": "stdout",
     "output_type": "stream",
     "text": [
      "64773 64773\n"
     ]
    }
   ],
   "source": [
    "print len(np.unique(m_nsa_2mass)), len(m_nsa_2mass)"
   ]
  },
  {
   "cell_type": "code",
   "execution_count": 24,
   "metadata": {
    "collapsed": true
   },
   "outputs": [],
   "source": [
    "nsa = {} \n",
    "for key in nsa_data.__dict__.keys(): \n",
    "    nsa[key] = getattr(nsa_data, key)"
   ]
  },
  {
   "cell_type": "code",
   "execution_count": 26,
   "metadata": {
    "collapsed": false
   },
   "outputs": [],
   "source": [
    "for band in ['j', 'h', 'k']:  # 2MASS bands\n",
    "    for tag in ['_k20fe', '_ext', '_fe']:\n",
    "        nsa['2mass_'+band+'_m'+tag] = np.repeat(-999., len(nsa['ra']))\n",
    "        nsa['2mass_'+band+'_msig'+tag] = np.repeat(-999., len(nsa['ra']))\n",
    "    \n",
    "        nsa['2mass_'+band+'_m'+tag][m_nsa_2mass] = getattr(twomass_data, band+'_m'+tag)[m_2mass_nsa]\n",
    "        nsa['2mass_'+band+'_msig'+tag][m_nsa_2mass] = getattr(twomass_data, band+'_msig'+tag)[m_2mass_nsa]"
   ]
  },
  {
   "cell_type": "code",
   "execution_count": 27,
   "metadata": {
    "collapsed": false
   },
   "outputs": [
    {
     "name": "stdout",
     "output_type": "stream",
     "text": [
      "-0.00333485 0.0550015\n"
     ]
    }
   ],
   "source": [
    "print nsa['z'].min(), nsa['z'].max()"
   ]
  },
  {
   "cell_type": "code",
   "execution_count": null,
   "metadata": {
    "collapsed": true
   },
   "outputs": [],
   "source": []
  }
 ],
 "metadata": {
  "kernelspec": {
   "display_name": "Python 2",
   "language": "python",
   "name": "python2"
  },
  "language_info": {
   "codemirror_mode": {
    "name": "ipython",
    "version": 2
   },
   "file_extension": ".py",
   "mimetype": "text/x-python",
   "name": "python",
   "nbconvert_exporter": "python",
   "pygments_lexer": "ipython2",
   "version": "2.7.9"
  }
 },
 "nbformat": 4,
 "nbformat_minor": 0
}
