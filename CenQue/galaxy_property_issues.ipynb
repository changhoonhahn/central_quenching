{
 "cells": [
  {
   "cell_type": "markdown",
   "metadata": {},
   "source": [
    "# Comparison of derived galaxy properties from VAGC and NSA"
   ]
  },
  {
   "cell_type": "code",
   "execution_count": 1,
   "metadata": {
    "collapsed": false
   },
   "outputs": [
    {
     "name": "stderr",
     "output_type": "stream",
     "text": [
      "/usr/local/lib/python2.7/site-packages/IPython/kernel/__init__.py:13: ShimWarning: The `IPython.kernel` package has been deprecated. You should import from ipykernel or jupyter_client instead.\n",
      "  \"You should import from ipykernel or jupyter_client instead.\", ShimWarning)\n"
     ]
    }
   ],
   "source": [
    "import numpy as np\n",
    "import h5py\n",
    "from pydl.pydlutils.spheregroup import spherematch\n",
    "from ChangTools.fitstables import mrdfits\n",
    "\n",
    "import matplotlib.pyplot as plt\n",
    "from ChangTools.plotting import prettyplot\n",
    "from ChangTools.plotting import prettycolors\n",
    "%matplotlib inline "
   ]
  },
  {
   "cell_type": "code",
   "execution_count": null,
   "metadata": {
    "collapsed": true
   },
   "outputs": [],
   "source": [
    "# VAGC group catalog (all) M_r cut = 18\n",
    "vagc_file = ''.join(['/Volumes/750GB/hahn/cenque/observations/', 'GroupCat.Mr18.Mass9.4.D360.all.hdf5']) \n",
    "f = h5py.File(vagc_file, 'r')\n",
    "grp = f['data']\n",
    "\n",
    "# save to dictionary\n",
    "vagc = {}\n",
    "for key in grp.keys(): \n",
    "    vagc[key] = grp[key].value"
   ]
  }
 ],
 "metadata": {
  "kernelspec": {
   "display_name": "Python 2",
   "language": "python",
   "name": "python2"
  },
  "language_info": {
   "codemirror_mode": {
    "name": "ipython",
    "version": 2
   },
   "file_extension": ".py",
   "mimetype": "text/x-python",
   "name": "python",
   "nbconvert_exporter": "python",
   "pygments_lexer": "ipython2",
   "version": "2.7.9"
  }
 },
 "nbformat": 4,
 "nbformat_minor": 0
}
