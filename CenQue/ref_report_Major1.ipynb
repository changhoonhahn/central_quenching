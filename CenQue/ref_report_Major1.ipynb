{
 "cells": [
  {
   "cell_type": "markdown",
   "metadata": {},
   "source": [
    "# Referee Report Major Comment #1\n",
    "In this work, the observed SSFR distribution at $z\\sim0$, especially the height of green valley, is critical to constraining the quenching timescale. The authors obtained the SSFR distribution from Brinchmann et al. 2004 who measured SFR using emission lines for galaxies with high SFR and D4000 for quiescent galaxies. However, multiple SFR indicators may introduce considerable systematic error to the SSFR distribution. As shown in Figure 11 in Brinchmann et al. 2004, D4000 does not correlate well with the SSFR for passive galaxies. Moreover, the aperture correction for the spectroscopically-derived SFR, which is based on broad-band photometry, may also introduce considerable uncertainty. Besides, SFR derived from emission lines reflects the SF activity on a 10Myr timescale. This makes the SFR measurements sensitive to short term variations in star formation history (SFH), such as small instantaneous burst.\n",
    "\n",
    "Therefore, I suggest the authors to check the SSFR distribution derived from UV (such as Salim et al. 2007) which is applicable for different types of galaxies and does not suffer the aperture effect. The SFR derived from UV is also dominated by SF activity on a 100Myr timescale which should be more consistent with the smooth SFH assumed in the paper.  "
   ]
  },
  {
   "cell_type": "code",
   "execution_count": 1,
   "metadata": {
    "collapsed": false
   },
   "outputs": [
    {
     "name": "stderr",
     "output_type": "stream",
     "text": [
      "/usr/local/lib/python2.7/site-packages/IPython/kernel/__init__.py:13: ShimWarning: The `IPython.kernel` package has been deprecated since IPython 4.0.You should import from ipykernel or jupyter_client instead.\n",
      "  \"You should import from ipykernel or jupyter_client instead.\", ShimWarning)\n"
     ]
    }
   ],
   "source": [
    "import numpy as np\n",
    "import h5py\n",
    "import pickle\n",
    "from pydl.pydlutils.spheregroup import spherematch\n",
    "\n",
    "import matplotlib.pyplot as plt\n",
    "%matplotlib inline \n",
    "\n",
    "from ChangTools.fitstables import mrdfits\n",
    "from ChangTools.plotting import prettyplot\n",
    "from ChangTools.plotting import prettycolors"
   ]
  },
  {
   "cell_type": "markdown",
   "metadata": {},
   "source": [
    "## import relevant data"
   ]
  },
  {
   "cell_type": "code",
   "execution_count": 2,
   "metadata": {
    "collapsed": true
   },
   "outputs": [],
   "source": [
    "# local directory\n",
    "local_dir = '/Volumes/ChangHDD/project/cenque/observations/'"
   ]
  },
  {
   "cell_type": "code",
   "execution_count": null,
   "metadata": {
    "collapsed": true
   },
   "outputs": [],
   "source": [
    "# import VAGC group catalog (all) M_r cut = 18\n",
    "vagc_file = ''.join([local_dir, 'GroupCat.Mr18.Mass9.4.D360.all.hdf5']) \n",
    "f = h5py.File(vagc_file, 'r')\n",
    "grp = f['data']\n",
    "\n",
    "# save to dictionary\n",
    "vagc = {}\n",
    "for key in grp.keys(): \n",
    "    vagc[key] = grp[key].value"
   ]
  }
 ],
 "metadata": {
  "kernelspec": {
   "display_name": "Python 2",
   "language": "python",
   "name": "python2"
  },
  "language_info": {
   "codemirror_mode": {
    "name": "ipython",
    "version": 2
   },
   "file_extension": ".py",
   "mimetype": "text/x-python",
   "name": "python",
   "nbconvert_exporter": "python",
   "pygments_lexer": "ipython2",
   "version": "2.7.9"
  }
 },
 "nbformat": 4,
 "nbformat_minor": 2
}
